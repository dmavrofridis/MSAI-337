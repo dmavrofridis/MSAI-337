{
 "cells": [
  {
   "cell_type": "code",
   "execution_count": 1,
   "id": "470a4cbe-7f5c-4e75-8a61-111bcff7352f",
   "metadata": {},
   "outputs": [
    {
     "name": "stdout",
     "output_type": "stream",
     "text": [
      "True\n",
      "cuda:0\n"
     ]
    }
   ],
   "source": [
    "import torch\n",
    "\n",
    "print(torch.cuda.is_available())\n",
    "\n",
    "if torch.cuda.is_available():\n",
    "    dev = \"cuda:0\"\n",
    "else:\n",
    "    dev = \"cpu\"\n",
    "\n",
    "print(dev)"
   ]
  },
  {
   "cell_type": "code",
   "execution_count": 7,
   "id": "0a62f53a-1550-4754-8671-56132f587638",
   "metadata": {},
   "outputs": [],
   "source": []
  },
  {
   "cell_type": "code",
   "execution_count": 68,
   "id": "af987620-adbc-4e24-a691-db76a47d182a",
   "metadata": {},
   "outputs": [],
   "source": [
    "import matplotlib.pyplot as plt\n",
    "import numpy as np\n",
    "import torch.nn as nn\n",
    "import torch\n",
    "import torch.nn.functional as F\n",
    "import nltk\n",
    "from global_variables import *\n",
    "from preprocessing import *\n",
    "\n",
    "class LSTM_Language_Model(nn.Module):\n",
    "    def __init__(self, vocab_size=27597, embedding_dim=100,\n",
    "                 hidden_dim=100, lstm_layers=2, dropout=0.2):\n",
    "        super(LSTM_Language_Model, self).__init__()\n",
    "\n",
    "        self.lstm = nn.LSTM(embedding_dim, hidden_dim, lstm_layers, dropout=dropout)\n",
    "        self.hl = nn.Linear(hidden_dim, hidden_dim)\n",
    "        self.fc1 = nn.Linear(hidden_dim, vocab_size)\n",
    "        self.activation = nn.Tanh()\n",
    "        self.embedding = nn.Embedding(vocab_size, embedding_dim)\n",
    "        self.batchNorm = nn.BatchNorm1d(hidden_dim)\n",
    "    def embedd(self, word_indexes):\n",
    "        return self.fc1.weight.index_select(0, word_indexes)\n",
    "\n",
    "    def forward(self, packed_sents):\n",
    "                \n",
    "        \n",
    "        emb_seq = nn.utils.rnn.PackedSequence(\n",
    "             self.embedding(packed_sents.data), packed_sents.batch_sizes)\n",
    "        # embeded_data = self.embedding(packed_sents.data)\n",
    "        result, _ = self.lstm(emb_seq)\n",
    "       \n",
    "        out = self.fc1(result.data)\n",
    "        return F.log_softmax(out, dim=1)\n",
    "\n",
    "\n",
    "def divider(data, size=BATCH_SIZE, time=30, window=30):\n",
    "    batch = []\n",
    "    count = 0\n",
    "    for i in range(1, len(data) + 1, window + 1):\n",
    "        count += 1\n",
    "        sequence = data[i - 1:i - 1 + time + 1]\n",
    "        batch.append(sequence)\n",
    "        if count != 0 and count % size == 0:\n",
    "            tmp_batch = batch\n",
    "            tmp_batch.sort(key=lambda l: len(l), reverse=True)\n",
    "            batch = []\n",
    "            yield tmp_batch\n",
    "\n",
    "\n",
    "def pre_process_train_data_LSTM_upgrade(name='wiki.train.txt', is_LSTM=True):\n",
    "    setup_nltk()\n",
    "    sliding_window_value = 30\n",
    "    text = to_number(lists_to_tokens(splitting_tokens(string_to_lower(load_text(name)))))\n",
    "    unique_n = unique_words(text)\n",
    "    print('unique_words----->' + str(unique_n))\n",
    "    mapping = create_integers(text)\n",
    "    reverse_mapping = {i: k for k, i in mapping.items()}\n",
    "    integers_texts = words_to_integers(text, mapping)\n",
    "    ytm_batch = divider(integers_texts, 20, 30, 30)\n",
    "    net = LSTM_Language_Model(27597, 100, 16, 2, 0.4)\n",
    "    net.to(dev)\n",
    "    optimizer = optim.Adam(net.parameters(), lr=0.01)\n",
    "    train_LSTM(integers_texts, net, optimizer, 100, train=True)\n",
    "    return net\n",
    "\n",
    "\n",
    "def pre_process_valid_test_data_LSTM_upgrade(model, name='wiki.valid.txt', is_LSTM=True):\n",
    "    setup_nltk()\n",
    "    sliding_window_value = 30\n",
    "    text = to_number(lists_to_tokens(splitting_tokens(string_to_lower(load_text(name)))))\n",
    "    unique_n = unique_words(text)\n",
    "    print('unique_words----->' + str(unique_n))\n",
    "    mapping = create_integers(text)\n",
    "    reverse_mapping = {i: k for k, i in mapping.items()}\n",
    "    integers_texts = words_to_integers(text, mapping)\n",
    "    model.to(dev)\n",
    "    loss = valid(integers_texts, model)\n",
    "    return loss\n",
    "\n",
    "\n",
    "def train_LSTM(data, model, optimizer, clip_grads, epoch_size=3, train=False):\n",
    "    train_per = []\n",
    "    vali_per = []\n",
    "    if train:\n",
    "        for i in range(20):\n",
    "            model.train()\n",
    "            losses = []\n",
    "            for index, sequence in enumerate(divider(data, 20)):\n",
    "\n",
    "                x = nn.utils.rnn.pack_sequence([torch.tensor(token[:-1]) for token in sequence])\n",
    "                y = nn.utils.rnn.pack_sequence([torch.tensor(token[1:]) for token in sequence])\n",
    "                x,y =x.to(dev), y.to(dev)\n",
    "                model.zero_grad()\n",
    "                out = model(x)\n",
    "                loss = F.nll_loss(out, y.data)\n",
    "                losses.append(loss.item())\n",
    "                loss.backward()\n",
    "                if clip_grads:\n",
    "                    torch.nn.utils.clip_grad_norm_(model.parameters(), 1)\n",
    "                optimizer.step()\n",
    "            mean_loss = sum(losses) / len(losses)\n",
    "            print(\"Epoch->\" + ' ' + str(i))\n",
    "            perplexity = np.exp(mean_loss)\n",
    "            print(perplexity)\n",
    "            train_per.append(perplexity)\n",
    "            vali_loss = pre_process_valid_test_data_LSTM_upgrade(model, 'wiki.valid.txt')\n",
    "            vali_perplexity = np.exp(vali_loss)\n",
    "            vali_per.append(vali_perplexity)\n",
    "            print(vali_loss)\n",
    "            if vali_loss < 6.9:\n",
    "                print(mean_loss, np.exp(mean_loss))\n",
    "                break\n",
    "        print(train_per)\n",
    "        print(vali_per)\n",
    "        plt.plot(train_per)\n",
    "        plt.title(\"Train Perplexity\")\n",
    "        plt.xlabel(\"Epoch\")\n",
    "        plt.ylabel(\"perplexity\")\n",
    "        plt.show()\n",
    "        plt.plot(vali_per)\n",
    "        plt.title(\"Validation Perplexity\")\n",
    "        plt.xlabel(\"Epoch\")\n",
    "        plt.ylabel(\"perplexity\")\n",
    "        plt.show()\n",
    "\n",
    "\n",
    "\n",
    "\n",
    "def valid(data, model):\n",
    "            model.eval()\n",
    "            losses = []\n",
    "            for index, sequence in enumerate(divider(data, 20)):\n",
    "                x = nn.utils.rnn.pack_sequence([torch.tensor(token[:-1]) for token in sequence])\n",
    "                y = nn.utils.rnn.pack_sequence([torch.tensor(token[1:]) for token in sequence])\n",
    "                x,y =x.to(dev), y.to(dev)\n",
    "                out = model(x)\n",
    "                loss = F.nll_loss(out, y.data)\n",
    "                losses.append(loss.item())\n",
    "            mean_loss = sum(losses) / len(losses)\n",
    "                # if index % 150 == 0:\n",
    "                #     perplexity = np.exp(loss.item())\n",
    "                #     print(\"Batch\" + ' ' + str(index))\n",
    "                #     print(\"loss\" + ' ' + str(mean_loss))\n",
    "                #     print('perplexity' + ' ' + str(perplexity))\n",
    "            print(mean_loss, np.exp(mean_loss))\n",
    "            # print('final_perplexity_valid' + ' ' + str(perplexity))\n",
    "            # print(\"Batch\" + ' ' + str(index))\n",
    "            # print(\"final_loss_valid\" + ' ' + str(loss.item()))\n",
    "            return mean_loss\n",
    "\n"
   ]
  },
  {
   "cell_type": "code",
   "execution_count": null,
   "id": "7cabeef7-3d4d-4003-b09f-a16a3838d883",
   "metadata": {},
   "outputs": [
    {
     "name": "stderr",
     "output_type": "stream",
     "text": [
      "[nltk_data] Downloading package stopwords to /home/studio-lab-\n",
      "[nltk_data]     user/nltk_data...\n",
      "[nltk_data]   Package stopwords is already up-to-date!\n"
     ]
    },
    {
     "name": "stdout",
     "output_type": "stream",
     "text": [
      "unique_words----->27597\n",
      "Epoch-> 0\n",
      "1043.2250001930624\n"
     ]
    },
    {
     "name": "stderr",
     "output_type": "stream",
     "text": [
      "[nltk_data] Downloading package stopwords to /home/studio-lab-\n",
      "[nltk_data]     user/nltk_data...\n",
      "[nltk_data]   Package stopwords is already up-to-date!\n"
     ]
    },
    {
     "name": "stdout",
     "output_type": "stream",
     "text": [
      "unique_words----->11410\n",
      "8.510806253682013 4968.167076990682\n",
      "8.510806253682013\n",
      "Epoch-> 1\n",
      "833.089937859559\n"
     ]
    },
    {
     "name": "stderr",
     "output_type": "stream",
     "text": [
      "[nltk_data] Downloading package stopwords to /home/studio-lab-\n",
      "[nltk_data]     user/nltk_data...\n",
      "[nltk_data]   Package stopwords is already up-to-date!\n"
     ]
    },
    {
     "name": "stdout",
     "output_type": "stream",
     "text": [
      "unique_words----->11410\n",
      "8.63985378984092 5652.503310606885\n",
      "8.63985378984092\n",
      "Epoch-> 2\n",
      "807.0681313780915\n"
     ]
    },
    {
     "name": "stderr",
     "output_type": "stream",
     "text": [
      "[nltk_data] Downloading package stopwords to /home/studio-lab-\n",
      "[nltk_data]     user/nltk_data...\n",
      "[nltk_data]   Package stopwords is already up-to-date!\n"
     ]
    },
    {
     "name": "stdout",
     "output_type": "stream",
     "text": [
      "unique_words----->11410\n",
      "8.69257853825887 5958.526740187342\n",
      "8.69257853825887\n",
      "Epoch-> 3\n",
      "780.1889025010731\n"
     ]
    },
    {
     "name": "stderr",
     "output_type": "stream",
     "text": [
      "[nltk_data] Downloading package stopwords to /home/studio-lab-\n",
      "[nltk_data]     user/nltk_data...\n",
      "[nltk_data]   Package stopwords is already up-to-date!\n"
     ]
    },
    {
     "name": "stdout",
     "output_type": "stream",
     "text": [
      "unique_words----->11410\n",
      "8.722722318898077 6140.873770393606\n",
      "8.722722318898077\n"
     ]
    }
   ],
   "source": [
    "import time\n",
    "import matplotlib.pyplot as plt\n",
    "\n",
    "def main(is_LSTM=False, use_custom_loss=False, use_valid=False, upgraded= False):\n",
    "    'if upgraded equal to false run the old models, otherwise run new pipeline with upgraded LSTM '\n",
    "    if upgraded == False:\n",
    "\n",
    "\n",
    "        dataset = 'wiki.valid.txt' if use_valid else 'wiki.test.txt'\n",
    "        to_print = \"Training on an LSTM Neural Network Model\" if is_LSTM else \"Training on a simple Feed Forward Neural Network Model\"\n",
    "        print(to_print)\n",
    "\n",
    "        train_dataset = pre_process_train_data(name='wiki.train.txt', is_LSTM=is_LSTM)\n",
    "        valid_dataset = pre_process_val_train_data(name=dataset, is_LSTM=is_LSTM)\n",
    "        print(\"Starting the timer\")\n",
    "        start_time = time.time()\n",
    "        run_nn_model(train_dataset, valid_dataset, is_LSTM=is_LSTM, epoch=1, use_custom_loss=use_custom_loss)\n",
    "        end_time = time.time() - start_time\n",
    "        print(\"Trained in -> \" + str(end_time / 60) + \" minutes.\")\n",
    "    else:\n",
    "        'pre_process_train_data_LSTM_upgrade function trains the model, the second function tests it on a valid dataset'\n",
    "        model = pre_process_train_data_LSTM_upgrade()\n",
    "      #  pre_process_valid_test_data_LSTM_upgrade(model, 'wiki.valid.txt')\n",
    "\n",
    "if __name__ == '__main__':\n",
    "    main(is_LSTM=False, use_custom_loss=False, use_valid=False, upgraded =True)\n"
   ]
  },
  {
   "cell_type": "code",
   "execution_count": null,
   "id": "b9f02b39-9da4-45a0-b375-0db94fcb9115",
   "metadata": {},
   "outputs": [],
   "source": []
  }
 ],
 "metadata": {
  "kernelspec": {
   "display_name": "default:Python",
   "language": "python",
   "name": "conda-env-default-py"
  },
  "language_info": {
   "codemirror_mode": {
    "name": "ipython",
    "version": 3
   },
   "file_extension": ".py",
   "mimetype": "text/x-python",
   "name": "python",
   "nbconvert_exporter": "python",
   "pygments_lexer": "ipython3",
   "version": "3.9.10"
  }
 },
 "nbformat": 4,
 "nbformat_minor": 5
}
